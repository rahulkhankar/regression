{
 "cells": [
  {
   "cell_type": "code",
   "execution_count": 109,
   "metadata": {},
   "outputs": [],
   "source": [
    "import requests\n",
    "import pandas as pd\n",
    "from scipy import stats\n",
    "import numpy\n",
    "import sys\n",
    "import csv"
   ]
  },
  {
   "cell_type": "code",
   "execution_count": 110,
   "metadata": {},
   "outputs": [],
   "source": [
    "TRAIN_DATA_URL = \"https://storage.googleapis.com/kubric-hiring/linreg_train.csv\"\n",
    "TEST_DATA_URL = \"https://storage.googleapis.com/kubric-hiring/linreg_test.csv\""
   ]
  },
  {
   "cell_type": "code",
   "execution_count": 119,
   "metadata": {},
   "outputs": [],
   "source": [
    "def predict_price(area1) -> float:\n",
    "    \"\"\"\n",
    "    This method must accept as input an array `area` (represents a list of areas sizes in sq feet) and must return the respective predicted prices (price per sq foot) using the linear regression model that you build.\n",
    "\n",
    "    You can run this program from the command line using `python3 regression.py`.\n",
    "    \n",
    "    \"\"\"\n",
    "    area = []\n",
    "    price=[]\n",
    "    \n",
    "    \n",
    "    with open('linreg_train.csv') as csvfile:\n",
    "        readCSV = csv.reader(csvfile, delimiter=',')\n",
    "        dates = []\n",
    "        price = []\n",
    "        area=[]\n",
    "        i=0\n",
    "        for row in readCSV:\n",
    "            #print(row)\n",
    "            if i==0:\n",
    "                area.append(row[1:])\n",
    "                i=i+1\n",
    "            else:\n",
    "                price.append(row[1:])\n",
    "            \n",
    "\n",
    "    #print(date)\n",
    "    #print(area[0])\n",
    "    #print(type(price[0][0]))\n",
    "    #x = np.array()\n",
    "    x=[]\n",
    "    for i in area[0]:\n",
    "        x.append(float(i))\n",
    "    #print(len(x))\n",
    "    y=[]\n",
    "    for i in price[0]:\n",
    "        y.append(float(i))\n",
    "    x = numpy.array(x)\n",
    "    y = numpy.array(y)\n",
    "    grad, intercept, r_val,p_val,std_err = stats.linregress(x,y)\n",
    "    print('grad',grad)\n",
    "    print('intercept',intercept)\n",
    "    #print(area1)\n",
    "    pred =[]\n",
    "    for i in area1:\n",
    "        yhat = grad*i+intercept\n",
    "        pred.append(yhat)\n",
    "    return(numpy.array(pred))\n",
    "    # YOUR IMPLEMENTATION HERE\n",
    "    ...\n",
    "\n"
   ]
  },
  {
   "cell_type": "code",
   "execution_count": 120,
   "metadata": {},
   "outputs": [
    {
     "name": "stdout",
     "output_type": "stream",
     "text": [
      "grad 0.03446688454652131\n",
      "intercept 1153.0968977521438\n",
      "Success. RMSE = 144.8900984168422\n"
     ]
    }
   ],
   "source": [
    "if __name__ == \"__main__\":\n",
    "    # DO NOT CHANGE THE FOLLOWING CODE\n",
    "    from data import validation_data\n",
    "    areas = numpy.array(list(validation_data.keys()))\n",
    "    prices = numpy.array(list(validation_data.values()))\n",
    "    predicted_prices = predict_price(areas)\n",
    "    rmse = numpy.sqrt(numpy.mean((predicted_prices - prices) ** 2))\n",
    "    try:\n",
    "        assert rmse < 170\n",
    "    except AssertionError:\n",
    "        print(f\"Root mean squared error is too high - {rmse}. Expected it to be under 170\")\n",
    "        sys.exit(1)\n",
    "    print(f\"Success. RMSE = {rmse}\")"
   ]
  },
  {
   "cell_type": "code",
   "execution_count": 5,
   "metadata": {},
   "outputs": [
    {
     "ename": "NameError",
     "evalue": "name 'main' is not defined",
     "output_type": "error",
     "traceback": [
      "\u001b[1;31m---------------------------------------------------------------------------\u001b[0m",
      "\u001b[1;31mNameError\u001b[0m                                 Traceback (most recent call last)",
      "\u001b[1;32m<ipython-input-5-263240bbee7e>\u001b[0m in \u001b[0;36m<module>\u001b[1;34m()\u001b[0m\n\u001b[1;32m----> 1\u001b[1;33m \u001b[0mmain\u001b[0m\u001b[1;33m(\u001b[0m\u001b[1;33m)\u001b[0m\u001b[1;33m\u001b[0m\u001b[1;33m\u001b[0m\u001b[0m\n\u001b[0m",
      "\u001b[1;31mNameError\u001b[0m: name 'main' is not defined"
     ]
    }
   ],
   "source": [
    "main()"
   ]
  },
  {
   "cell_type": "code",
   "execution_count": null,
   "metadata": {},
   "outputs": [],
   "source": []
  }
 ],
 "metadata": {
  "kernelspec": {
   "display_name": "Python 3",
   "language": "python",
   "name": "python3"
  },
  "language_info": {
   "codemirror_mode": {
    "name": "ipython",
    "version": 3
   },
   "file_extension": ".py",
   "mimetype": "text/x-python",
   "name": "python",
   "nbconvert_exporter": "python",
   "pygments_lexer": "ipython3",
   "version": "3.7.6"
  }
 },
 "nbformat": 4,
 "nbformat_minor": 4
}
